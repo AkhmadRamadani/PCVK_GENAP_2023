{
  "nbformat": 4,
  "nbformat_minor": 0,
  "metadata": {
    "colab": {
      "provenance": [],
      "authorship_tag": "ABX9TyPxafUbJYCV6Zdv3fWPgUZT",
      "include_colab_link": true
    },
    "kernelspec": {
      "name": "python3",
      "display_name": "Python 3"
    },
    "language_info": {
      "name": "python"
    }
  },
  "cells": [
    {
      "cell_type": "markdown",
      "metadata": {
        "id": "view-in-github",
        "colab_type": "text"
      },
      "source": [
        "<a href=\"https://colab.research.google.com/github/AkhmadRamadani/PCVK_GENAP_2023/blob/main/Week2.ipynb\" target=\"_parent\"><img src=\"https://colab.research.google.com/assets/colab-badge.svg\" alt=\"Open In Colab\"/></a>"
      ]
    },
    {
      "cell_type": "markdown",
      "source": [
        "\n",
        "**BIODATA**\n",
        "\n",
        "> Nama : Akhmad Ramadani\n",
        "\n",
        "> Kelas: TI - 3B\n",
        "\n",
        "> NIM: 2041720002\n"
      ],
      "metadata": {
        "id": "bn9wN26GCPCT"
      }
    },
    {
      "cell_type": "code",
      "execution_count": null,
      "metadata": {
        "id": "n1OI6SNRCKiL"
      },
      "outputs": [],
      "source": []
    }
  ]
}